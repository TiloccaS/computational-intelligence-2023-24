{
 "cells": [
  {
   "cell_type": "code",
   "execution_count": 2051,
   "metadata": {},
   "outputs": [],
   "source": [
    "#we use set for taken and not taken, is better than vector beacause we don't have position\n",
    "import numpy as np"
   ]
  },
  {
   "cell_type": "code",
   "execution_count": 2052,
   "metadata": {},
   "outputs": [],
   "source": [
    "from random import random\n",
    "import numpy as np\n",
    "import operator\n",
    "from functools import reduce\n",
    "from queue import PriorityQueue\n",
    "from collections import namedtuple\n",
    "from math import ceil\n"
   ]
  },
  {
   "cell_type": "code",
   "execution_count": 2053,
   "metadata": {},
   "outputs": [],
   "source": [
    "PROBLEM_SIZE=5\n",
    "NUM_SETS=10\n",
    "State=namedtuple(\"State\",[\"taken\",\"not_taken\"])"
   ]
  },
  {
   "cell_type": "code",
   "execution_count": 2054,
   "metadata": {},
   "outputs": [
    {
     "data": {
      "text/plain": [
       "(array([False, False, False,  True,  True]),\n",
       " array([ True, False,  True, False, False]),\n",
       " array([False, False,  True, False, False]),\n",
       " array([False, False, False, False, False]),\n",
       " array([ True, False,  True,  True, False]),\n",
       " array([False,  True,  True, False,  True]),\n",
       " array([ True, False, False, False,  True]),\n",
       " array([ True, False, False, False,  True]),\n",
       " array([ True, False,  True, False, False]),\n",
       " array([False,  True, False, False,  True]))"
      ]
     },
     "execution_count": 2054,
     "metadata": {},
     "output_type": "execute_result"
    }
   ],
   "source": [
    "#one possible set could be:\n",
    "SETS=tuple(np.array([random()<.3 for _ in range(PROBLEM_SIZE)]) for _ in range(NUM_SETS))\n",
    "SETS"
   ]
  },
  {
   "cell_type": "code",
   "execution_count": 2055,
   "metadata": {},
   "outputs": [
    {
     "data": {
      "text/plain": [
       "False"
      ]
     },
     "execution_count": 2055,
     "metadata": {},
     "output_type": "execute_result"
    }
   ],
   "source": [
    "state=({1,3,5},{0,2,4,6,7})#in the first position there are step taken and the second are not taken position\n",
    "#how can i calculate the goal state?\n",
    "[SETS[i] for i in state[0]]\n",
    "np.all(reduce(np.logical_or,[SETS[i] for i in state[0]]))#our taste to for understand if we are in the goal state"
   ]
  },
  {
   "cell_type": "code",
   "execution_count": 2056,
   "metadata": {},
   "outputs": [],
   "source": [
    "def goal_check(state):\n",
    "    return np.all(reduce(np.logical_or, [SETS[i] for i in state.taken], np.array([False for _ in range(PROBLEM_SIZE)])))"
   ]
  },
  {
   "cell_type": "markdown",
   "metadata": {},
   "source": [
    "# MY SOLUTION\n",
    "What I tried to do to improve the Heuristic professor’s solution is to reorder the vector of not taken based on the number of true cells and extract the first N elements whose sum of true was greater than the true missing cells, N will be my result."
   ]
  },
  {
   "cell_type": "code",
   "execution_count": 2057,
   "metadata": {},
   "outputs": [],
   "source": [
    "def array_with_more_true(arrays, missing):\n",
    "    num_true_per_array = [np.count_nonzero(array) for array in arrays]#create a vector with number of cell true \n",
    "    array_with_count = list(zip(arrays, num_true_per_array))#create an array with sets, n_true\n",
    "    array_with_count.sort(key=lambda x: x[1], reverse=True)#reorder\n",
    "    element_in_arrays = [x[1] for x in array_with_count]\n",
    "    cnt=0#cnt si incrementa fino a che non copro tutte le missing size\n",
    "    cov=missing\n",
    "    for i in element_in_arrays:\n",
    "       if missing>0:\n",
    "           cnt+=1\n",
    "           missing=missing-i\n",
    "    top_n_arrays = [x[0] for x in array_with_count[:cnt]]\n",
    "    print(\"mancano:\",cov,\"e possiamo usare nel caso migliore\",cnt, \"sets e sono:\\n\",top_n_arrays,\"\\n\\n\")\n",
    "\n",
    "    return top_n_arrays,cnt\n",
    "\n",
    "def covered(state):\n",
    "    return reduce(\n",
    "        np.logical_or,\n",
    "        [SETS[i] for i in state.taken],\n",
    "        np.array([False for _ in range(PROBLEM_SIZE)]),\n",
    "    )\n",
    "\n",
    "def h(state):\n",
    "    \n",
    "    missing_size = PROBLEM_SIZE - sum(covered(state))\n",
    "    x=tuple(SETS[i] for i in state.not_taken)\n",
    "    _,optimistic_estimate=array_with_more_true(x,missing_size)\n",
    "    #print(optimistic_estimate)\n",
    "    return optimistic_estimate\n"
   ]
  },
  {
   "cell_type": "code",
   "execution_count": 2058,
   "metadata": {},
   "outputs": [],
   "source": [
    "assert goal_check(State(set(range(NUM_SETS)), set())), \"Probelm not solvable\"\n"
   ]
  },
  {
   "cell_type": "code",
   "execution_count": 2059,
   "metadata": {},
   "outputs": [
    {
     "name": "stdout",
     "output_type": "stream",
     "text": [
      "State(taken={0}, not_taken={1, 2, 3, 4, 5, 6, 7, 8, 9})\n",
      "mancano: 3 e possiamo usare nel caso migliore 1 sets e sono:\n",
      " [array([ True, False,  True,  True, False])] \n",
      "\n",
      "\n",
      "State(taken={1}, not_taken={0, 2, 3, 4, 5, 6, 7, 8, 9})\n",
      "mancano: 3 e possiamo usare nel caso migliore 1 sets e sono:\n",
      " [array([ True, False,  True,  True, False])] \n",
      "\n",
      "\n",
      "State(taken={2}, not_taken={0, 1, 3, 4, 5, 6, 7, 8, 9})\n",
      "mancano: 4 e possiamo usare nel caso migliore 2 sets e sono:\n",
      " [array([ True, False,  True,  True, False]), array([False,  True,  True, False,  True])] \n",
      "\n",
      "\n",
      "State(taken={3}, not_taken={0, 1, 2, 4, 5, 6, 7, 8, 9})\n",
      "mancano: 5 e possiamo usare nel caso migliore 2 sets e sono:\n",
      " [array([ True, False,  True,  True, False]), array([False,  True,  True, False,  True])] \n",
      "\n",
      "\n",
      "State(taken={4}, not_taken={0, 1, 2, 3, 5, 6, 7, 8, 9})\n",
      "mancano: 2 e possiamo usare nel caso migliore 1 sets e sono:\n",
      " [array([False,  True,  True, False,  True])] \n",
      "\n",
      "\n",
      "State(taken={5}, not_taken={0, 1, 2, 3, 4, 6, 7, 8, 9})\n",
      "mancano: 2 e possiamo usare nel caso migliore 1 sets e sono:\n",
      " [array([ True, False,  True,  True, False])] \n",
      "\n",
      "\n",
      "State(taken={6}, not_taken={0, 1, 2, 3, 4, 5, 7, 8, 9})\n",
      "mancano: 3 e possiamo usare nel caso migliore 1 sets e sono:\n",
      " [array([ True, False,  True,  True, False])] \n",
      "\n",
      "\n",
      "State(taken={7}, not_taken={0, 1, 2, 3, 4, 5, 6, 8, 9})\n",
      "mancano: 3 e possiamo usare nel caso migliore 1 sets e sono:\n",
      " [array([ True, False,  True,  True, False])] \n",
      "\n",
      "\n",
      "State(taken={8}, not_taken={0, 1, 2, 3, 4, 5, 6, 7, 9})\n",
      "mancano: 3 e possiamo usare nel caso migliore 1 sets e sono:\n",
      " [array([ True, False,  True,  True, False])] \n",
      "\n",
      "\n",
      "State(taken={9}, not_taken={0, 1, 2, 3, 4, 5, 6, 7, 8})\n",
      "mancano: 3 e possiamo usare nel caso migliore 1 sets e sono:\n",
      " [array([ True, False,  True,  True, False])] \n",
      "\n",
      "\n",
      "State(taken={0, 1}, not_taken={2, 3, 4, 5, 6, 7, 8, 9})\n",
      "mancano: 1 e possiamo usare nel caso migliore 1 sets e sono:\n",
      " [array([ True, False,  True,  True, False])] \n",
      "\n",
      "\n",
      "State(taken={0, 2}, not_taken={1, 3, 4, 5, 6, 7, 8, 9})\n",
      "mancano: 2 e possiamo usare nel caso migliore 1 sets e sono:\n",
      " [array([ True, False,  True,  True, False])] \n",
      "\n",
      "\n",
      "State(taken={0, 3}, not_taken={1, 2, 4, 5, 6, 7, 8, 9})\n",
      "mancano: 3 e possiamo usare nel caso migliore 1 sets e sono:\n",
      " [array([ True, False,  True,  True, False])] \n",
      "\n",
      "\n",
      "State(taken={0, 4}, not_taken={1, 2, 3, 5, 6, 7, 8, 9})\n",
      "mancano: 1 e possiamo usare nel caso migliore 1 sets e sono:\n",
      " [array([False,  True,  True, False,  True])] \n",
      "\n",
      "\n",
      "State(taken={0, 5}, not_taken={1, 2, 3, 4, 6, 7, 8, 9})\n",
      "mancano: 1 e possiamo usare nel caso migliore 1 sets e sono:\n",
      " [array([ True, False,  True,  True, False])] \n",
      "\n",
      "\n",
      "State(taken={0, 6}, not_taken={1, 2, 3, 4, 5, 7, 8, 9})\n",
      "mancano: 2 e possiamo usare nel caso migliore 1 sets e sono:\n",
      " [array([ True, False,  True,  True, False])] \n",
      "\n",
      "\n",
      "State(taken={0, 7}, not_taken={1, 2, 3, 4, 5, 6, 8, 9})\n",
      "mancano: 2 e possiamo usare nel caso migliore 1 sets e sono:\n",
      " [array([ True, False,  True,  True, False])] \n",
      "\n",
      "\n",
      "State(taken={8, 0}, not_taken={1, 2, 3, 4, 5, 6, 7, 9})\n",
      "mancano: 1 e possiamo usare nel caso migliore 1 sets e sono:\n",
      " [array([ True, False,  True,  True, False])] \n",
      "\n",
      "\n",
      "State(taken={0, 9}, not_taken={1, 2, 3, 4, 5, 6, 7, 8})\n",
      "mancano: 2 e possiamo usare nel caso migliore 1 sets e sono:\n",
      " [array([ True, False,  True,  True, False])] \n",
      "\n",
      "\n",
      "State(taken={0, 1, 2}, not_taken={3, 4, 5, 6, 7, 8, 9})\n",
      "mancano: 1 e possiamo usare nel caso migliore 1 sets e sono:\n",
      " [array([ True, False,  True,  True, False])] \n",
      "\n",
      "\n",
      "State(taken={0, 1, 3}, not_taken={2, 4, 5, 6, 7, 8, 9})\n",
      "mancano: 1 e possiamo usare nel caso migliore 1 sets e sono:\n",
      " [array([ True, False,  True,  True, False])] \n",
      "\n",
      "\n",
      "State(taken={0, 1, 4}, not_taken={2, 3, 5, 6, 7, 8, 9})\n",
      "mancano: 1 e possiamo usare nel caso migliore 1 sets e sono:\n",
      " [array([False,  True,  True, False,  True])] \n",
      "\n",
      "\n",
      "State(taken={0, 1, 5}, not_taken={2, 3, 4, 6, 7, 8, 9})\n",
      "mancano: 0 e possiamo usare nel caso migliore 0 sets e sono:\n",
      " [] \n",
      "\n",
      "\n",
      "State(taken={0, 1, 6}, not_taken={2, 3, 4, 5, 7, 8, 9})\n",
      "mancano: 1 e possiamo usare nel caso migliore 1 sets e sono:\n",
      " [array([ True, False,  True,  True, False])] \n",
      "\n",
      "\n",
      "State(taken={0, 1, 7}, not_taken={2, 3, 4, 5, 6, 8, 9})\n",
      "mancano: 1 e possiamo usare nel caso migliore 1 sets e sono:\n",
      " [array([ True, False,  True,  True, False])] \n",
      "\n",
      "\n",
      "State(taken={8, 0, 1}, not_taken={2, 3, 4, 5, 6, 7, 9})\n",
      "mancano: 1 e possiamo usare nel caso migliore 1 sets e sono:\n",
      " [array([ True, False,  True,  True, False])] \n",
      "\n",
      "\n",
      "State(taken={0, 9, 1}, not_taken={2, 3, 4, 5, 6, 7, 8})\n",
      "mancano: 0 e possiamo usare nel caso migliore 0 sets e sono:\n",
      " [] \n",
      "\n",
      "\n",
      "27\n"
     ]
    }
   ],
   "source": [
    "#we need a queue that is the frontier\n",
    "frontier=PriorityQueue()\n",
    "#define the initial state\n",
    "frontier.put(State(set(),set(range(NUM_SETS))))\n",
    "current_state=frontier.get()\n",
    "contatore=0\n",
    "while not goal_check(current_state):\n",
    "    for action in current_state[1]:\n",
    "     contatore+=1\n",
    "     new_state=State (current_state.taken ^ {action}, current_state.not_taken ^{action})\n",
    "     print(new_state)\n",
    "\n",
    "     frontier.put((((h(new_state)-len(new_state.taken))),new_state))\n",
    "     #print(\"mancano:\",PROBLEM_SIZE-sum(covered(new_state)))\n",
    "     #print(\"h:\",h(new_state), \"costo attuale:\",len(new_state))\n",
    "    _,current_state=frontier.get()\n",
    "print(contatore)"
   ]
  },
  {
   "cell_type": "markdown",
   "metadata": {},
   "source": [
    "# Solution with Dijkstra"
   ]
  },
  {
   "cell_type": "code",
   "execution_count": 2060,
   "metadata": {},
   "outputs": [],
   "source": [
    "frontier_=PriorityQueue()\n",
    "#define the initial state\n",
    "frontier_.put(State(set(),set(range(NUM_SETS))))\n",
    "current_state_=frontier_.get()\n",
    "contatore_=0\n",
    "while not goal_check(current_state_):\n",
    "    for action in current_state_[1]:\n",
    "     contatore_+=1\n",
    "     new_state=State (current_state_.taken ^ {action}, current_state_.not_taken ^{action})\n",
    "     frontier_.put((-len(current_state_.taken),new_state))\n",
    "    _,current_state_=frontier_.get()"
   ]
  },
  {
   "cell_type": "markdown",
   "metadata": {},
   "source": [
    "#  Prof Solution \n",
    "I get more or less the same results, never better but often equal"
   ]
  },
  {
   "cell_type": "code",
   "execution_count": 2061,
   "metadata": {},
   "outputs": [],
   "source": [
    "def h3(state):\n",
    "    already_covered = covered(state)\n",
    "    if np.all(already_covered):\n",
    "        return 0\n",
    "    missing_size = PROBLEM_SIZE - sum(already_covered)\n",
    "    candidates = sorted((sum(np.logical_and(s, np.logical_not(already_covered))) for s in SETS), reverse=True)\n",
    "    taken = 1\n",
    "    while sum(candidates[:taken]) < missing_size:\n",
    "        taken += 1\n",
    "    return taken\n",
    "\n",
    "\n",
    "frontier_3=PriorityQueue()\n",
    "#define the initial state\n",
    "frontier_3.put(State(set(),set(range(NUM_SETS))))\n",
    "current_state_3=frontier_3.get()\n",
    "contatore_3=0\n",
    "while not goal_check(current_state_3):\n",
    "    for action in current_state_3[1]:\n",
    "     contatore_3+=1\n",
    "     new_state_3=State (current_state_3.taken ^ {action}, current_state_3.not_taken ^{action})\n",
    "     #print(new_state_3)\n",
    "\n",
    "     frontier_3.put((((h3(new_state_3)-len(new_state_3.taken))),new_state_3))\n",
    "     #print(\"mancano:\",PROBLEM_SIZE-sum(covered(new_state)))\n",
    "     #print(\"h:\",h(new_state), \"costo attuale:\",len(new_state))\n",
    "    _,current_state_3=frontier_3.get()\n"
   ]
  },
  {
   "cell_type": "code",
   "execution_count": 2062,
   "metadata": {},
   "outputs": [
    {
     "name": "stdout",
     "output_type": "stream",
     "text": [
      "My method use  27 steps and give us:  State(taken={0, 1, 5}, not_taken={2, 3, 4, 6, 7, 8, 9})\n",
      "Method with Dijkstra use 45 steps and give us:  State(taken={0, 1, 2, 3, 4, 5}, not_taken={6, 7, 8, 9})\n",
      "Method Prof use 19 steps and give us:  State(taken={4, 5}, not_taken={0, 1, 2, 3, 6, 7, 8, 9})\n"
     ]
    }
   ],
   "source": [
    "print(\"My method use \",contatore, \"steps and give us: \",current_state)\n",
    "print(\"Method with Dijkstra use\",contatore_,\"steps and give us: \", current_state_)\n",
    "print(\"Method Prof use\",contatore_3,\"steps and give us: \", current_state_3)\n"
   ]
  }
 ],
 "metadata": {
  "kernelspec": {
   "display_name": "myenv",
   "language": "python",
   "name": "python3"
  },
  "language_info": {
   "codemirror_mode": {
    "name": "ipython",
    "version": 3
   },
   "file_extension": ".py",
   "mimetype": "text/x-python",
   "name": "python",
   "nbconvert_exporter": "python",
   "pygments_lexer": "ipython3",
   "version": "3.11.0"
  }
 },
 "nbformat": 4,
 "nbformat_minor": 2
}
