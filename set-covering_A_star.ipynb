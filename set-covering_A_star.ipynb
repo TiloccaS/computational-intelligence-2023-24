{
 "cells": [
  {
   "cell_type": "code",
   "execution_count": 12,
   "metadata": {},
   "outputs": [],
   "source": [
    "#we use set for taken and not taken, is better than vector beacause we don't have position\n",
    "import numpy as np"
   ]
  },
  {
   "cell_type": "code",
   "execution_count": 13,
   "metadata": {},
   "outputs": [],
   "source": [
    "from random import random\n",
    "import numpy as np\n",
    "import operator\n",
    "from functools import reduce\n",
    "from queue import PriorityQueue\n",
    "from collections import namedtuple"
   ]
  },
  {
   "cell_type": "code",
   "execution_count": 14,
   "metadata": {},
   "outputs": [],
   "source": [
    "PROBLEM_SIZE=5\n",
    "NUM_SETS=10\n",
    "State=namedtuple(\"State\",[\"taken\",\"not_taken\"])"
   ]
  },
  {
   "cell_type": "code",
   "execution_count": 15,
   "metadata": {},
   "outputs": [
    {
     "data": {
      "text/plain": [
       "(array([False, False, False, False,  True]),\n",
       " array([False, False, False, False, False]),\n",
       " array([False,  True, False,  True, False]),\n",
       " array([False, False, False, False, False]),\n",
       " array([False,  True, False,  True, False]),\n",
       " array([False, False,  True, False, False]),\n",
       " array([False, False, False, False, False]),\n",
       " array([ True, False,  True, False, False]),\n",
       " array([False, False, False,  True,  True]),\n",
       " array([False, False, False, False,  True]))"
      ]
     },
     "execution_count": 15,
     "metadata": {},
     "output_type": "execute_result"
    }
   ],
   "source": [
    "#one possible set could be:\n",
    "SETS=tuple(np.array([random()<.3 for _ in range(PROBLEM_SIZE)]) for _ in range(NUM_SETS))\n",
    "SETS"
   ]
  },
  {
   "cell_type": "code",
   "execution_count": 16,
   "metadata": {},
   "outputs": [
    {
     "data": {
      "text/plain": [
       "False"
      ]
     },
     "execution_count": 16,
     "metadata": {},
     "output_type": "execute_result"
    }
   ],
   "source": [
    "state=({1,3,5},{0,2,4,6,7})#in the first position there are step taken and the second are not taken position\n",
    "#how can i calculate the goal state?\n",
    "[SETS[i] for i in state[0]]\n",
    "np.all(reduce(np.logical_or,[SETS[i] for i in state[0]]))#our taste to for understand if we are in the goal state"
   ]
  },
  {
   "cell_type": "code",
   "execution_count": 17,
   "metadata": {},
   "outputs": [],
   "source": [
    "def goal_check(state):\n",
    "    return np.all(reduce(np.logical_or, [SETS[i] for i in state.taken], np.array([False for _ in range(PROBLEM_SIZE)])))"
   ]
  },
  {
   "cell_type": "code",
   "execution_count": 18,
   "metadata": {},
   "outputs": [],
   "source": [
    "def get_number_taken(state):\n",
    "    tmp=np.sum(reduce(np.logical_or, [SETS[i] for i in state.taken], np.array([False for _ in range(PROBLEM_SIZE)]))==True)\n",
    "    return np.sum(reduce(np.logical_or, [SETS[i] for i in state.taken], np.array([False for _ in range(PROBLEM_SIZE)]))==True)"
   ]
  },
  {
   "cell_type": "code",
   "execution_count": 19,
   "metadata": {},
   "outputs": [],
   "source": [
    "assert goal_check(State(set(range(NUM_SETS)), set())), \"Probelm not solvable\"\n"
   ]
  },
  {
   "cell_type": "code",
   "execution_count": 20,
   "metadata": {},
   "outputs": [],
   "source": [
    "#we need a queue that is the frontier\n",
    "frontier=PriorityQueue()\n",
    "#define the initial state\n",
    "frontier.put(State(set(),set(range(NUM_SETS))))\n",
    "current_state=frontier.get()\n",
    "contatore=0\n",
    "while not goal_check(current_state):\n",
    "    for action in current_state[1]:\n",
    "     contatore+=1\n",
    "     new_state=State (current_state.taken ^ {action}, current_state.not_taken ^{action})\n",
    "     frontier.put(((PROBLEM_SIZE-get_number_taken(new_state)+len(new_state.taken)),new_state))\n",
    "    _,current_state=frontier.get()"
   ]
  },
  {
   "cell_type": "code",
   "execution_count": 21,
   "metadata": {},
   "outputs": [],
   "source": [
    "frontier_=PriorityQueue()\n",
    "#define the initial state\n",
    "frontier_.put(State(set(),set(range(NUM_SETS))))\n",
    "current_state_=frontier_.get()\n",
    "contatore_=0\n",
    "while not goal_check(current_state_):\n",
    "    for action in current_state_[1]:\n",
    "     contatore_+=1\n",
    "     new_state=State (current_state_.taken ^ {action}, current_state_.not_taken ^{action})\n",
    "     frontier_.put((-len(current_state_.taken),new_state))\n",
    "    _,current_state_=frontier_.get()"
   ]
  },
  {
   "cell_type": "code",
   "execution_count": 22,
   "metadata": {},
   "outputs": [
    {
     "name": "stdout",
     "output_type": "stream",
     "text": [
      "First method use  27 steps and give us:  State(taken={0, 2, 7}, not_taken={1, 3, 4, 5, 6, 8, 9})\n",
      "Method with Dijkstra use 55 steps and give us:  State(taken={0, 1, 2, 3, 4, 5, 6, 7, 8, 9}, not_taken=set())\n"
     ]
    }
   ],
   "source": [
    "print(\"First method use \",contatore, \"steps and give us: \",current_state)\n",
    "print(\"Method with Dijkstra use\",contatore_,\"steps and give us: \", current_state_)\n"
   ]
  }
 ],
 "metadata": {
  "kernelspec": {
   "display_name": "myenv",
   "language": "python",
   "name": "python3"
  },
  "language_info": {
   "codemirror_mode": {
    "name": "ipython",
    "version": 3
   },
   "file_extension": ".py",
   "mimetype": "text/x-python",
   "name": "python",
   "nbconvert_exporter": "python",
   "pygments_lexer": "ipython3",
   "version": "3.11.0"
  }
 },
 "nbformat": 4,
 "nbformat_minor": 2
}
