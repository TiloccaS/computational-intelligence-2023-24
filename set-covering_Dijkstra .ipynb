{
 "cells": [
  {
   "cell_type": "code",
   "execution_count": 50,
   "metadata": {},
   "outputs": [],
   "source": [
    "#we use set for taken and not taken, is better than vector beacause we don't have position\n",
    "import numpy as np"
   ]
  },
  {
   "cell_type": "code",
   "execution_count": 51,
   "metadata": {},
   "outputs": [],
   "source": [
    "from random import random\n",
    "import numpy as np\n",
    "import operator\n",
    "from functools import reduce\n",
    "from queue import PriorityQueue\n",
    "from collections import namedtuple"
   ]
  },
  {
   "cell_type": "code",
   "execution_count": 52,
   "metadata": {},
   "outputs": [],
   "source": [
    "PROBLEM_SIZE=5\n",
    "NUM_SETS=10\n",
    "State=namedtuple(\"State\",[\"taken\",\"not_taken\"])"
   ]
  },
  {
   "cell_type": "code",
   "execution_count": 53,
   "metadata": {},
   "outputs": [
    {
     "data": {
      "text/plain": [
       "(array([False, False, False, False, False]),\n",
       " array([False,  True, False, False, False]),\n",
       " array([False, False, False, False, False]),\n",
       " array([False,  True,  True,  True, False]),\n",
       " array([False, False, False,  True, False]),\n",
       " array([False, False,  True, False, False]),\n",
       " array([ True,  True, False, False, False]),\n",
       " array([ True, False,  True,  True, False]),\n",
       " array([ True, False, False, False, False]),\n",
       " array([False,  True,  True, False, False]))"
      ]
     },
     "execution_count": 53,
     "metadata": {},
     "output_type": "execute_result"
    }
   ],
   "source": [
    "#one possible set could be:\n",
    "SETS=tuple(np.array([random()<.3 for _ in range(PROBLEM_SIZE)]) for _ in range(NUM_SETS))\n",
    "SETS"
   ]
  },
  {
   "cell_type": "code",
   "execution_count": 54,
   "metadata": {},
   "outputs": [
    {
     "data": {
      "text/plain": [
       "False"
      ]
     },
     "execution_count": 54,
     "metadata": {},
     "output_type": "execute_result"
    }
   ],
   "source": [
    "state=({1,3,5},{0,2,4,6,7})#in the first position there are step taken and the second are not taken position\n",
    "#how can i calculate the goal state?\n",
    "[SETS[i] for i in state[0]]\n",
    "np.all(reduce(np.logical_or,[SETS[i] for i in state[0]]))#our taste to for understand if we are in the goal state"
   ]
  },
  {
   "cell_type": "code",
   "execution_count": 55,
   "metadata": {},
   "outputs": [],
   "source": [
    "def goal_check(state):\n",
    "    return np.all(reduce(np.logical_or, [SETS[i] for i in state.taken], np.array([False for _ in range(PROBLEM_SIZE)])))"
   ]
  },
  {
   "cell_type": "code",
   "execution_count": null,
   "metadata": {},
   "outputs": [],
   "source": []
  },
  {
   "cell_type": "code",
   "execution_count": 56,
   "metadata": {},
   "outputs": [
    {
     "ename": "AssertionError",
     "evalue": "Probelm not solvable",
     "output_type": "error",
     "traceback": [
      "\u001b[1;31m---------------------------------------------------------------------------\u001b[0m",
      "\u001b[1;31mAssertionError\u001b[0m                            Traceback (most recent call last)",
      "\u001b[1;32md:\\Salvatore\\Reboot\\Universita\\VANNO\\Computational Inteligence\\computational-intelligence-2023-24\\computational-intelligence-2023-24\\set-covering.ipynb Cell 8\u001b[0m line \u001b[0;36m1\n\u001b[1;32m----> <a href='vscode-notebook-cell:/d%3A/Salvatore/Reboot/Universita/VANNO/Computational%20Inteligence/computational-intelligence-2023-24/computational-intelligence-2023-24/set-covering.ipynb#X10sZmlsZQ%3D%3D?line=0'>1</a>\u001b[0m \u001b[39massert\u001b[39;00m goal_check(State(\u001b[39mset\u001b[39m(\u001b[39mrange\u001b[39m(NUM_SETS)), \u001b[39mset\u001b[39m())), \u001b[39m\"\u001b[39m\u001b[39mProbelm not solvable\u001b[39m\u001b[39m\"\u001b[39m\n",
      "\u001b[1;31mAssertionError\u001b[0m: Probelm not solvable"
     ]
    }
   ],
   "source": [
    "assert goal_check(State(set(range(NUM_SETS)), set())), \"Probelm not solvable\"\n"
   ]
  },
  {
   "cell_type": "code",
   "execution_count": null,
   "metadata": {},
   "outputs": [],
   "source": []
  },
  {
   "cell_type": "code",
   "execution_count": null,
   "metadata": {},
   "outputs": [],
   "source": [
    "frontier_=PriorityQueue()\n",
    "#define the initial state\n",
    "frontier_.put(State(set(),set(range(NUM_SETS))))\n",
    "current_state_=frontier_.get()\n",
    "contatore_=0\n",
    "while not goal_check(current_state_):\n",
    "    for action in current_state_[1]:\n",
    "     contatore_+=1\n",
    "     new_state=State (current_state_.taken ^ {action}, current_state_.not_taken ^{action})\n",
    "     frontier_.put((len(current_state_.taken),new_state))\n",
    "    _,current_state_=frontier_.get()"
   ]
  },
  {
   "cell_type": "code",
   "execution_count": null,
   "metadata": {},
   "outputs": [
    {
     "name": "stdout",
     "output_type": "stream",
     "text": [
      "Method with Dijkstra use 862 steps and give us:  State(taken={9, 2, 7}, not_taken={0, 1, 3, 4, 5, 6, 8})\n"
     ]
    }
   ],
   "source": [
    "print(\"Method with Dijkstra use\",contatore_,\"steps and give us: \", current_state_)\n"
   ]
  }
 ],
 "metadata": {
  "kernelspec": {
   "display_name": "myenv",
   "language": "python",
   "name": "python3"
  },
  "language_info": {
   "codemirror_mode": {
    "name": "ipython",
    "version": 3
   },
   "file_extension": ".py",
   "mimetype": "text/x-python",
   "name": "python",
   "nbconvert_exporter": "python",
   "pygments_lexer": "ipython3",
   "version": "3.11.0"
  }
 },
 "nbformat": 4,
 "nbformat_minor": 2
}
