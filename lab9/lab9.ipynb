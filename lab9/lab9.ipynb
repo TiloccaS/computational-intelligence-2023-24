{
 "cells": [
  {
   "cell_type": "markdown",
   "metadata": {},
   "source": [
    "Copyright **`(c)`** 2023 Giovanni Squillero `<giovanni.squillero@polito.it>`  \n",
    "[`https://github.com/squillero/computational-intelligence`](https://github.com/squillero/computational-intelligence)  \n",
    "Free for personal or classroom use; see [`LICENSE.md`](https://github.com/squillero/computational-intelligence/blob/master/LICENSE.md) for details.  "
   ]
  },
  {
   "cell_type": "markdown",
   "metadata": {},
   "source": [
    "# LAB9\n",
    "\n",
    "Write a local-search algorithm (eg. an EA) able to solve the *Problem* instances 1, 2, 5, and 10 on a 1000-loci genomes, using a minimum number of fitness calls. That's all.\n",
    "\n",
    "### Deadlines:\n",
    "\n",
    "* Submission: Sunday, December 3 ([CET](https://www.timeanddate.com/time/zones/cet))\n",
    "* Reviews: Sunday, December 10 ([CET](https://www.timeanddate.com/time/zones/cet))\n",
    "\n",
    "Notes:\n",
    "\n",
    "* Reviews will be assigned  on Monday, December 4\n",
    "* You need to commit in order to be selected as a reviewer (ie. better to commit an empty work than not to commit)"
   ]
  },
  {
   "cell_type": "code",
   "execution_count": 191,
   "metadata": {},
   "outputs": [],
   "source": [
    "from random import random, choice, randint,sample,choices\n",
    "from functools import reduce\n",
    "from collections import namedtuple\n",
    "from dataclasses import dataclass\n",
    "from copy import copy\n",
    "\n",
    "from pprint import pprint\n",
    "\n",
    "import numpy as np\n",
    "import lab9_lib\n",
    "import matplotlib.pyplot as plt"
   ]
  },
  {
   "cell_type": "code",
   "execution_count": 192,
   "metadata": {},
   "outputs": [],
   "source": [
    "@dataclass\n",
    "class Individual:\n",
    "  def __init__(self,genotype: list[int], fitness:float=None):\n",
    "        self.fitness = fitness\n",
    "        self.genotype = np.array(genotype)\n",
    "  def modify_fitness(self,fitness):\n",
    "      self.fitness=fitness\n",
    " "
   ]
  },
  {
   "cell_type": "markdown",
   "metadata": {},
   "source": [
    "# Class Population\n",
    "The class population has:\n",
    "- genotype that is bidimensional np.array containing the bitstrings of population\n",
    "- fitness instead contains the fitness tuples corresponding to each genotype"
   ]
  },
  {
   "cell_type": "code",
   "execution_count": 193,
   "metadata": {},
   "outputs": [],
   "source": [
    "@dataclass\n",
    "class Population:\n",
    "    def __init__(self,n,geno_length=1000):\n",
    "     self.genotype=np.random.randint(2, size=(n, geno_length))\n",
    "     self.fitness= tuple(lab9_lib.make_problem(n)(self.genotype[i]) for i in range(n))\n",
    "     self.n=n\n",
    "    def add_element(self,offsprings:list[Individual]):\n",
    "       for i in offsprings:\n",
    "        self.genotype=np.vstack([self.genotype,i.genotype])\n",
    "        self.fitness=self.fitness+(i.fitness,)\n",
    "        self.n+=1\n",
    "       return\n",
    "    def get_top_n_elements(self, N):\n",
    "        sorted_indices = np.argsort(self.fitness)[::-1]  \n",
    "        sorted_genotype = self.genotype[sorted_indices]\n",
    "        sorted_fitness = np.array(self.fitness)[sorted_indices]\n",
    "        return sorted_genotype[:N], sorted_fitness[:N]\n",
    "    def get_best_element(self):\n",
    "        index_of_best = np.argmax(self.fitness)\n",
    "        best_genotype = self.genotype[index_of_best]\n",
    "        best_fitness = self.fitness[index_of_best]\n",
    "\n",
    "        return best_fitness,best_genotype\n",
    "    def remove_worst_elements(self, j):\n",
    "        sorted_indices = np.argsort(self.fitness)[::-1]  \n",
    "        self.fitness = tuple(np.array(self.fitness)[sorted_indices[:j]])\n",
    "        self.genotype = self.genotype[sorted_indices[:j]]\n",
    "        self.n=j"
   ]
  },
  {
   "cell_type": "code",
   "execution_count": 194,
   "metadata": {},
   "outputs": [],
   "source": [
    "def select_parent(pop:Population,TOURNAMENT_SIZE):\n",
    "    pool = [randint(0,pop.n-1) for _ in range (TOURNAMENT_SIZE)]\n",
    "    index_of_best = max(pool, key=lambda i: pop.fitness[i])\n",
    "    best_genotype = pop.genotype[index_of_best]\n",
    "    best_fitness = pop.fitness[index_of_best]\n",
    "\n",
    "    return  best_fitness, best_genotype\n"
   ]
  },
  {
   "cell_type": "markdown",
   "metadata": {},
   "source": [
    "# Mutation Crossover\n",
    "Here i've implemented a mutation and 3 types of crossover"
   ]
  },
  {
   "cell_type": "code",
   "execution_count": 195,
   "metadata": {},
   "outputs": [],
   "source": [
    "def mutate(ind: Individual,geno_length=1000) -> Individual:\n",
    "    offspring = copy(ind)\n",
    "    pos = randint(0, geno_length-1)\n",
    "    offspring.genotype[pos] = not offspring.genotype[pos]\n",
    "    offspring.fitness = None\n",
    "    return offspring\n",
    "\n",
    "def one_cut_xover(ind1: Individual, ind2: Individual,geno_length=1000) -> Individual:\n",
    "    cut_point = randint(0, geno_length-1)\n",
    "    offspring = Individual(fitness=None,\n",
    "                           genotype=np.concatenate((ind1.genotype[cut_point:],ind2.genotype[:cut_point]),axis=0))\n",
    "    return offspring\n",
    "def two_point_crossover(ind1: Individual, ind2: Individual,geno_length=1000):\n",
    "    crossover_points = sorted(sample(range(geno_length), 2))\n",
    "    offspring = Individual(fitness=None,genotype=np.concatenate((ind1.genotype[:crossover_points[0]], ind2.genotype[crossover_points[0]:crossover_points[1]], ind1.genotype[crossover_points[1]:])))\n",
    "    return offspring\n",
    "def uniform_crossover(ind1: Individual, ind2: Individual,geno_length=1000):\n",
    "    mask = np.random.randint(2, size=geno_length, dtype=bool)\n",
    "    offspring = Individual(fitness=None,genotype=np.where(mask, ind1.genotype, ind2.genotype))\n",
    "    return offspring\n",
    "\n",
    "def random_crossover(ind1: Individual, ind2: Individual,geno_length=1000):\n",
    "    crossover_functions = [one_cut_xover, two_point_crossover, uniform_crossover]\n",
    "    selected_crossover_function = choice(crossover_functions)\n",
    "\n",
    "    return selected_crossover_function(ind1,ind2,geno_length)"
   ]
  },
  {
   "cell_type": "markdown",
   "metadata": {},
   "source": [
    "# Find Best Fitness\n",
    "This function is used to generate a problem using lab9_lib and find best solution "
   ]
  },
  {
   "cell_type": "code",
   "execution_count": 202,
   "metadata": {},
   "outputs": [],
   "source": [
    "def find_best_fitness(POPULATION_SIZE = 100,makeproblem_size=10,OFFSPRING_SIZE=20,TOURNAMENT_SIZE=2,MUTATION_PROBABILITY=0.50,GENO_LENGTH=1000,early_stopping=1000):\n",
    "    fitness_ = lab9_lib.make_problem(makeproblem_size)\n",
    "    population=Population(POPULATION_SIZE,GENO_LENGTH)\n",
    "    contatore_fitness=POPULATION_SIZE\n",
    "    counter_early_stopping=0\n",
    "    last_solution=None\n",
    "    last_fit=0.\n",
    "    array_fitness=[]\n",
    "    cnt=[]\n",
    "    while counter_early_stopping<=early_stopping:\n",
    "        offspring = list()\n",
    "        \n",
    "        for counter in range(OFFSPRING_SIZE):\n",
    "            if random() < MUTATION_PROBABILITY:  # self-adapt mutation probability\n",
    "                # mutation  # add more clever mutations\n",
    "                fitness,genotype = select_parent(population,TOURNAMENT_SIZE)\n",
    "                p=Individual(fitness=fitness,genotype=genotype)\n",
    "                o = mutate(p,GENO_LENGTH)\n",
    "            else:\n",
    "                # xover # add more xovers\n",
    "                fitness,genotype = select_parent(population,TOURNAMENT_SIZE)\n",
    "                p1=Individual(fitness=fitness,genotype=genotype)\n",
    "                fitness,genotype = select_parent(population,TOURNAMENT_SIZE)\n",
    "                p2 = Individual(fitness=fitness,genotype=genotype)\n",
    "                o=random_crossover(p1, p2,GENO_LENGTH)\n",
    "            \n",
    "            offspring.append(o)\n",
    "\n",
    "        for i in offspring:\n",
    "            i.modify_fitness(fitness_(i.genotype))\n",
    "            contatore_fitness+=1\n",
    "        population.add_element(offspring)\n",
    "        population.remove_worst_elements(POPULATION_SIZE)\n",
    "        current_best_fit,current_best=population.get_best_element()\n",
    "        array_fitness.append(current_best_fit)\n",
    "        cnt.append(len(array_fitness))\n",
    "        if(abs((current_best_fit-last_fit))<0.001):\n",
    "            counter_early_stopping+=1    \n",
    "        else:\n",
    "\n",
    "             counter_early_stopping=0\n",
    "\n",
    "        last_fit=current_best_fit\n",
    "        \n",
    "    best_fitness,el=population.get_best_element()  \n",
    "      \n",
    "    if(early_stopping!=None):\n",
    "        print(\"Using early stopping at \",early_stopping,\" i've used the fitness :\",contatore_fitness,\"time and i obtained a fitness of: \", best_fitness)\n",
    "    else:\n",
    "        print(\"without early stopping i've used the fitness :\",contatore_fitness,\"time and i obtained a fitness of: \",best_fitness)\n",
    "    # Plot dei risultati\n",
    "\n",
    "    last_2_percent = int(len(array_fitness) * (1 - 0.98))\n",
    "\n",
    "    plt.plot(cnt[last_2_percent:], array_fitness[last_2_percent:], marker='.')\n",
    "\n",
    "    plt.xlabel('Fitness call')\n",
    "    plt.ylabel('Fitness value')\n",
    "    plt.title('Plot of fitness value for each fitness call')\n",
    "\n",
    "    # Mostra il plot\n",
    "    plt.show()"
   ]
  },
  {
   "cell_type": "code",
   "execution_count": 203,
   "metadata": {},
   "outputs": [
    {
     "name": "stdout",
     "output_type": "stream",
     "text": [
      "Using early stopping at  1000  i've used the fitness : 21160 time and i obtained a fitness of:  0.327667\n"
     ]
    },
    {
     "data": {
      "image/png": "[encoded data removed]",
      "text/plain": [
       "<Figure size 640x480 with 1 Axes>"
      ]
     },
     "metadata": {},
     "output_type": "display_data"
    }
   ],
   "source": [
    "find_best_fitness()\n",
    "#find_best_fitness(early_stopping=75)"
   ]
  },
  {
   "cell_type": "code",
   "execution_count": null,
   "metadata": {},
   "outputs": [
    {
     "name": "stdout",
     "output_type": "stream",
     "text": [
      "[9, 10]\n"
     ]
    }
   ],
   "source": [
    "arr=[1,2,3,4,5,6,7,8,9,10]\n",
    "print(arr[-2:])"
   ]
  }
 ],
 "metadata": {
  "kernelspec": {
   "display_name": "ci-fLJ3OwGs-py3.12",
   "language": "python",
   "name": "python3"
  },
  "language_info": {
   "codemirror_mode": {
    "name": "ipython",
    "version": 3
   },
   "file_extension": ".py",
   "mimetype": "text/x-python",
   "name": "python",
   "nbconvert_exporter": "python",
   "pygments_lexer": "ipython3",
   "version": "3.12.0"
  }
 },
 "nbformat": 4,
 "nbformat_minor": 2
}
