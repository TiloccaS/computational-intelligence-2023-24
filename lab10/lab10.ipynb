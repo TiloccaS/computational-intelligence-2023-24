{
 "cells": [
  {
   "cell_type": "markdown",
   "metadata": {},
   "source": [
    "Copyright **`(c)`** 2023 Giovanni Squillero `<giovanni.squillero@polito.it>`  \n",
    "[`https://github.com/squillero/computational-intelligence`](https://github.com/squillero/computational-intelligence)  \n",
    "Free for personal or classroom use; see [`LICENSE.md`](https://github.com/squillero/computational-intelligence/blob/master/LICENSE.md) for details.  "
   ]
  },
  {
   "cell_type": "markdown",
   "metadata": {},
   "source": []
  },
  {
   "cell_type": "markdown",
   "metadata": {},
   "source": [
    "# LAB10\n",
    "\n",
    "Use reinforcement learning to devise a tic-tac-toe player.\n",
    "\n",
    "### Deadlines:\n",
    "\n",
    "* Submission: Sunday, December 17 ([CET](https://www.timeanddate.com/time/zones/cet))\n",
    "* Reviews: Dies Natalis Solis Invicti ([CET](https://en.wikipedia.org/wiki/Sol_Invictus))\n",
    "\n",
    "Notes:\n",
    "\n",
    "* Reviews will be assigned  on Monday, December 4\n",
    "* You need to commit in order to be selected as a reviewer (ie. better to commit an empty work than not to commit)"
   ]
  },
  {
   "cell_type": "code",
   "execution_count": 80,
   "metadata": {},
   "outputs": [],
   "source": [
    "from itertools import combinations\n",
    "from collections import namedtuple, defaultdict\n",
    "from random import choice\n",
    "from copy import deepcopy\n",
    "import functools\n",
    "\n",
    "from tqdm.auto import tqdm\n",
    "import numpy as np"
   ]
  },
  {
   "cell_type": "markdown",
   "metadata": {},
   "source": []
  },
  {
   "cell_type": "code",
   "execution_count": 28,
   "metadata": {},
   "outputs": [],
   "source": [
    "MAGIC = [2, 7, 6, 9, 5, 1, 4, 3, 8]\n",
    "MAGIC_90=[6,1,8,7,5,3,2,9,4]\n",
    "MAGIC_180=[8,3,4,1,5,9,6,7,2]\n",
    "MAGIC_270=[4,9,2,3,5,7,8,1,6]\n",
    "MAGIC_MIRROR=[4,3,8,9,5,1,2,7,6]\n",
    "MAGIC_MIRROR_90=[2,9,4,7,5,3,6,1,8]\n",
    "MAGIC_MIRROR_180=[6,7,2,1,5,9,8,3,4]\n",
    "MAGIC_MIRROR_270=[8,1,6,3,5,7,4,9,2]\n",
    "\n"
   ]
  },
  {
   "cell_type": "code",
   "execution_count": 81,
   "metadata": {},
   "outputs": [
    {
     "name": "stdout",
     "output_type": "stream",
     "text": [
      "x\n",
      "ritorno da get_values\n",
      "x\n",
      "ritorno da get_values\n",
      "x\n",
      "ritorno da get_values\n",
      "x\n",
      "ritorno da get_values\n",
      "x\n",
      "ritorno da get_values\n",
      "x\n",
      "ritorno da get_values\n",
      "x\n",
      "ritorno da get_values\n",
      "[CustomState(x={1, 3}, o={5}), CustomState(x={9, 3}, o={5}), CustomState(x={9, 7}, o={5}), CustomState(x={1, 7}, o={5}), CustomState(x={1, 7}, o={5}), CustomState(x={9, 3}, o={5}), CustomState(x={1, 7}, o={5})]\n"
     ]
    },
    {
     "ename": "NameError",
     "evalue": "name 'compare' is not defined",
     "output_type": "error",
     "traceback": [
      "\u001b[1;31m---------------------------------------------------------------------------\u001b[0m",
      "\u001b[1;31mNameError\u001b[0m                                 Traceback (most recent call last)",
      "Cell \u001b[1;32mIn[81], line 50\u001b[0m\n\u001b[0;32m     44\u001b[0m         \u001b[38;5;28;01mreturn\u001b[39;00m \u001b[38;5;241m0\u001b[39m\n\u001b[0;32m     47\u001b[0m \u001b[38;5;66;03m# Esempio di utilizszo:\u001b[39;00m\n\u001b[1;32m---> 50\u001b[0m \u001b[43mCustomState\u001b[49m\u001b[43m(\u001b[49m\u001b[38;5;28;43mset\u001b[39;49m\u001b[43m(\u001b[49m\u001b[43m[\u001b[49m\u001b[38;5;241;43m1\u001b[39;49m\u001b[43m,\u001b[49m\u001b[38;5;241;43m3\u001b[39;49m\u001b[43m]\u001b[49m\u001b[43m)\u001b[49m\u001b[43m,\u001b[49m\u001b[38;5;28;43mset\u001b[39;49m\u001b[43m(\u001b[49m\u001b[43m[\u001b[49m\u001b[38;5;241;43m5\u001b[39;49m\u001b[43m]\u001b[49m\u001b[43m)\u001b[49m\u001b[43m)\u001b[49m\u001b[38;5;241;43m.\u001b[39;49m\u001b[38;5;21;43m__hash__\u001b[39;49m\u001b[43m(\u001b[49m\u001b[43m)\u001b[49m\n",
      "Cell \u001b[1;32mIn[81], line 25\u001b[0m, in \u001b[0;36mCustomState.__hash__\u001b[1;34m(self)\u001b[0m\n\u001b[0;32m     23\u001b[0m     vett\u001b[38;5;241m.\u001b[39mappend(val)\n\u001b[0;32m     24\u001b[0m \u001b[38;5;28mprint\u001b[39m(vett)\n\u001b[1;32m---> 25\u001b[0m \u001b[38;5;28msorted\u001b[39m(vett, key\u001b[38;5;241m=\u001b[39mfunctools\u001b[38;5;241m.\u001b[39mcmp_to_key(\u001b[43mcompare\u001b[49m))\n\u001b[0;32m     26\u001b[0m \u001b[38;5;28mprint\u001b[39m(vett)\n\u001b[0;32m     27\u001b[0m \u001b[38;5;28;01mreturn\u001b[39;00m \u001b[38;5;28mhash\u001b[39m((\u001b[38;5;28mtuple\u001b[39m(vett[\u001b[38;5;241m0\u001b[39m]\u001b[38;5;241m.\u001b[39mx), \u001b[38;5;28mtuple\u001b[39m(vett[\u001b[38;5;241m0\u001b[39m]\u001b[38;5;241m.\u001b[39mo)))\n",
      "\u001b[1;31mNameError\u001b[0m: name 'compare' is not defined"
     ]
    }
   ],
   "source": [
    "from collections import namedtuple\n",
    "\n",
    "State = namedtuple('State', ['x', 'o'])\n",
    "def compare(self, other):\n",
    "    # Confronta i primi set elemento per elemento\n",
    "    for elem_self, elem_other in zip(self.x, other.x):\n",
    "        if elem_self < elem_other:\n",
    "            return -1\n",
    "        elif elem_self > elem_other:\n",
    "            return 1\n",
    "\n",
    "    # Se tutti gli elementi dei primi set sono uguali, confronta i secondi set\n",
    "    for elem_self, elem_other in zip(self.o, other.o):\n",
    "        if elem_self < elem_other:\n",
    "            return -1\n",
    "        elif elem_self > elem_other:\n",
    "            return 1\n",
    "\n",
    "    # Se tutti gli elementi sono uguali, le due istanze sono considerate uguali\n",
    "    return 0\n",
    "class CustomState(namedtuple('State', ['x', 'o'])):\n",
    "    def __eq__(self, other):\n",
    "        indexes=find_indices(self)\n",
    "        #print(\"gli indici sono\",indexes)\n",
    "        for magic in [MAGIC,MAGIC_90,MAGIC_180,MAGIC_270,MAGIC_MIRROR,MAGIC_MIRROR_180,MAGIC_270]:\n",
    "            \n",
    "            val =get_values_by_keys(indexes,magic)\n",
    "            #print(val, other)\n",
    "            if (sorted(val.x) == sorted(other.x) and sorted(val.o) == sorted(other.o)):\n",
    "                return True\n",
    "        \n",
    "        return False \n",
    "    def __hash__(self):\n",
    "        vett=[]\n",
    "        indexes=find_indices(self)\n",
    "        for i,magic in enumerate([MAGIC,MAGIC_90,MAGIC_180,MAGIC_270,MAGIC_MIRROR,MAGIC_MIRROR_180,MAGIC_270]):\n",
    "            val =get_values_by_keys(indexes,magic)\n",
    "            #print(i)\n",
    "            vett.append(val)\n",
    "        print(vett)\n",
    "        sorted(vett, key=functools.cmp_to_key())\n",
    "        print(vett)\n",
    "        return hash((tuple(vett[0].x), tuple(vett[0].o)))   \n",
    "   \n",
    "       \n",
    "\n",
    "# Esempio di utilizszo:\n",
    "    \n",
    "\n",
    "CustomState(set([1,3]),set([5])).__hash__()"
   ]
  },
  {
   "cell_type": "code",
   "execution_count": 68,
   "metadata": {},
   "outputs": [],
   "source": [
    "def get_values_by_keys(key_list:CustomState, vector):\n",
    "    result_values = CustomState(set(),set())\n",
    "    print(\"x\")\n",
    "    for key in key_list.x:\n",
    "            try:\n",
    "                value = vector[key]\n",
    "                result_values.x.add(value)\n",
    "            except IndexError:\n",
    "                pass\n",
    "    \n",
    "    for key in key_list.o:\n",
    "            try:\n",
    "                value = vector[key]\n",
    "                result_values.o.add(value)\n",
    "            except IndexError:\n",
    "                pass   \n",
    "    print(\"ritorno da get_values\")         \n",
    "    return result_values\n",
    "\n"
   ]
  },
  {
   "cell_type": "code",
   "execution_count": 31,
   "metadata": {},
   "outputs": [],
   "source": [
    "def find_indices(pos:State):\n",
    "    state_tmp=CustomState(set([]),set([]))\n",
    "    for i,val in enumerate(pos.x):\n",
    "        #print(val)\n",
    "        try:\n",
    "            index = MAGIC.index(val)\n",
    "            state_tmp.x.add(index)\n",
    "        except ValueError:\n",
    "            #print(val)\n",
    "\n",
    "            print(\"errore\")\n",
    "            pass\n",
    "    for i,val in enumerate(pos.o):\n",
    "        #print(val)\n",
    "        try:\n",
    "            index = MAGIC.index(val)\n",
    "            state_tmp.o.add(index)\n",
    "        except ValueError:\n",
    "            print(val)\n",
    "\n",
    "            print(\"errore\")\n",
    "            pass\n",
    "    \n",
    "    return state_tmp"
   ]
  },
  {
   "cell_type": "code",
   "execution_count": null,
   "metadata": {},
   "outputs": [],
   "source": []
  },
  {
   "cell_type": "code",
   "execution_count": 32,
   "metadata": {},
   "outputs": [],
   "source": [
    "def print_board(pos):\n",
    "    \"\"\"Nicely prints the board\"\"\"\n",
    "    board=\"\"\n",
    "    for r in range(3):\n",
    "        board+='\\n'\n",
    "\n",
    "        for c in range(3):\n",
    "            i = r * 3 + c\n",
    "            if MAGIC[i] in pos.x:\n",
    "                print('X', end='')\n",
    "                board+='X'\n",
    "            elif MAGIC[i] in pos.o:\n",
    "                print('O', end='')\n",
    "                board+='O'\n",
    "            else:\n",
    "                print(MAGIC[i], end='')\n",
    "                board+=str(MAGIC[i])\n",
    "        print()\n",
    "    print()\n",
    "    return board"
   ]
  },
  {
   "cell_type": "code",
   "execution_count": 33,
   "metadata": {},
   "outputs": [],
   "source": [
    "def win(elements):\n",
    "    \"\"\"Checks is elements is winning\"\"\"\n",
    "    return any(sum(c) == 15 for c in combinations(elements, 3))\n",
    "def block_win_adv(state_adv,pick):\n",
    "     for c in combinations(state_adv, 2):\n",
    "         if 15-sum(c) ==pick:\n",
    "             return 1\n",
    "     return 0    \n",
    "def trap_condition(user_state,adversarial_state):\n",
    "        cnt=0\n",
    "        for c in combinations(user_state,2):\n",
    "             val =15-sum(c)\n",
    "\n",
    "             if val not in adversarial_state and val>0:\n",
    "                  cnt+=1\n",
    "                  if cnt>=2:\n",
    "                       return 0.5         \n",
    "        return 0    \n",
    "def state_value(pos: State):\n",
    "    \"\"\"Evaluate state: +1 first player wins\"\"\"\n",
    "    if win(pos.x):\n",
    "        return 1\n",
    "    elif win(pos.o):\n",
    "        return -1\n",
    "    else:\n",
    "    \n",
    "        return 0\n",
    "\n",
    "    "
   ]
  },
  {
   "cell_type": "code",
   "execution_count": 34,
   "metadata": {},
   "outputs": [],
   "source": [
    "def random_move(available):\n",
    "\n",
    "    x = choice(list(available))\n",
    "\n",
    "        \n",
    "    return x"
   ]
  },
  {
   "cell_type": "code",
   "execution_count": 49,
   "metadata": {},
   "outputs": [
    {
     "data": {
      "application/vnd.jupyter.widget-view+json": {
       "model_id": "7ef9f03600f0433abb54bd495f21a815",
       "version_major": 2,
       "version_minor": 0
      },
      "text/plain": [
       "  0%|          | 0/5000 [00:00<?, ?it/s]"
      ]
     },
     "metadata": {},
     "output_type": "display_data"
    },
    {
     "ename": "RecursionError",
     "evalue": "maximum recursion depth exceeded while calling a Python object",
     "output_type": "error",
     "traceback": [
      "\u001b[1;31m---------------------------------------------------------------------------\u001b[0m",
      "\u001b[1;31mRecursionError\u001b[0m                            Traceback (most recent call last)",
      "Cell \u001b[1;32mIn[49], line 44\u001b[0m\n\u001b[0;32m     42\u001b[0m \u001b[38;5;28;01mif\u001b[39;00m reward\u001b[38;5;241m==\u001b[39m\u001b[38;5;241m0\u001b[39m:\n\u001b[0;32m     43\u001b[0m     reward\u001b[38;5;241m=\u001b[39m\u001b[38;5;241m-\u001b[39mtrap_condition(state_tmp\u001b[38;5;241m.\u001b[39mo,state_tmp\u001b[38;5;241m.\u001b[39mx)\n\u001b[1;32m---> 44\u001b[0m \u001b[38;5;28;01mif\u001b[39;00m \u001b[43mstate\u001b[49m\u001b[43m \u001b[49m\u001b[38;5;129;43;01mnot\u001b[39;49;00m\u001b[43m \u001b[49m\u001b[38;5;129;43;01min\u001b[39;49;00m\u001b[43m \u001b[49m\u001b[43mvalue_dictionary\u001b[49m:\n\u001b[0;32m     45\u001b[0m     value_dictionary[state]\u001b[38;5;241m=\u001b[39m{action:\u001b[38;5;241m0.\u001b[39m}\n\u001b[0;32m     46\u001b[0m \u001b[38;5;28;01melif\u001b[39;00m action \u001b[38;5;129;01mnot\u001b[39;00m \u001b[38;5;129;01min\u001b[39;00m value_dictionary[state]:\n",
      "Cell \u001b[1;32mIn[45], line 22\u001b[0m, in \u001b[0;36mCustomState.__hash__\u001b[1;34m(self)\u001b[0m\n\u001b[0;32m     20\u001b[0m \u001b[38;5;28;01mfor\u001b[39;00m magic \u001b[38;5;129;01min\u001b[39;00m [MAGIC,MAGIC_90,MAGIC_180,MAGIC_270,MAGIC_MIRROR,MAGIC_MIRROR_180,MAGIC_270]:\n\u001b[0;32m     21\u001b[0m     val \u001b[38;5;241m=\u001b[39mget_values_by_keys(indexes,magic)\n\u001b[1;32m---> 22\u001b[0m     \u001b[43mvett\u001b[49m\u001b[38;5;241;43m.\u001b[39;49m\u001b[43madd\u001b[49m\u001b[43m(\u001b[49m\u001b[43mval\u001b[49m\u001b[43m)\u001b[49m\n\u001b[0;32m     23\u001b[0m \u001b[38;5;28msorted\u001b[39m(vett, key\u001b[38;5;241m=\u001b[39m\u001b[38;5;28;01mlambda\u001b[39;00m x: x\u001b[38;5;241m.\u001b[39mcompare())\n\u001b[0;32m     24\u001b[0m \u001b[38;5;28;01mreturn\u001b[39;00m \u001b[38;5;28mhash\u001b[39m((\u001b[38;5;28mtuple\u001b[39m(\u001b[38;5;28mself\u001b[39m\u001b[38;5;241m.\u001b[39mx), \u001b[38;5;28mtuple\u001b[39m(\u001b[38;5;28mself\u001b[39m\u001b[38;5;241m.\u001b[39mo)))\n",
      "Cell \u001b[1;32mIn[45], line 22\u001b[0m, in \u001b[0;36mCustomState.__hash__\u001b[1;34m(self)\u001b[0m\n\u001b[0;32m     20\u001b[0m \u001b[38;5;28;01mfor\u001b[39;00m magic \u001b[38;5;129;01min\u001b[39;00m [MAGIC,MAGIC_90,MAGIC_180,MAGIC_270,MAGIC_MIRROR,MAGIC_MIRROR_180,MAGIC_270]:\n\u001b[0;32m     21\u001b[0m     val \u001b[38;5;241m=\u001b[39mget_values_by_keys(indexes,magic)\n\u001b[1;32m---> 22\u001b[0m     \u001b[43mvett\u001b[49m\u001b[38;5;241;43m.\u001b[39;49m\u001b[43madd\u001b[49m\u001b[43m(\u001b[49m\u001b[43mval\u001b[49m\u001b[43m)\u001b[49m\n\u001b[0;32m     23\u001b[0m \u001b[38;5;28msorted\u001b[39m(vett, key\u001b[38;5;241m=\u001b[39m\u001b[38;5;28;01mlambda\u001b[39;00m x: x\u001b[38;5;241m.\u001b[39mcompare())\n\u001b[0;32m     24\u001b[0m \u001b[38;5;28;01mreturn\u001b[39;00m \u001b[38;5;28mhash\u001b[39m((\u001b[38;5;28mtuple\u001b[39m(\u001b[38;5;28mself\u001b[39m\u001b[38;5;241m.\u001b[39mx), \u001b[38;5;28mtuple\u001b[39m(\u001b[38;5;28mself\u001b[39m\u001b[38;5;241m.\u001b[39mo)))\n",
      "    \u001b[1;31m[... skipping similar frames: CustomState.__hash__ at line 22 (1482 times)]\u001b[0m\n",
      "Cell \u001b[1;32mIn[45], line 22\u001b[0m, in \u001b[0;36mCustomState.__hash__\u001b[1;34m(self)\u001b[0m\n\u001b[0;32m     20\u001b[0m \u001b[38;5;28;01mfor\u001b[39;00m magic \u001b[38;5;129;01min\u001b[39;00m [MAGIC,MAGIC_90,MAGIC_180,MAGIC_270,MAGIC_MIRROR,MAGIC_MIRROR_180,MAGIC_270]:\n\u001b[0;32m     21\u001b[0m     val \u001b[38;5;241m=\u001b[39mget_values_by_keys(indexes,magic)\n\u001b[1;32m---> 22\u001b[0m     vett\u001b[38;5;241m.\u001b[39madd(val)\n\u001b[0;32m     23\u001b[0m \u001b[38;5;28msorted\u001b[39m(vett, key\u001b[38;5;241m=\u001b[39m\u001b[38;5;28;01mlambda\u001b[39;00m x: x\u001b[38;5;241m.\u001b[39mcompare())\n\u001b[0;32m     24\u001b[0m \u001b[38;5;28;01mreturn\u001b[39;00m \u001b[38;5;28mhash\u001b[39m((\u001b[38;5;28mtuple\u001b[39m(\u001b[38;5;28mself\u001b[39m\u001b[38;5;241m.\u001b[39mx), \u001b[38;5;28mtuple\u001b[39m(\u001b[38;5;28mself\u001b[39m\u001b[38;5;241m.\u001b[39mo)))\n",
      "Cell \u001b[1;32mIn[45], line 19\u001b[0m, in \u001b[0;36mCustomState.__hash__\u001b[1;34m(self)\u001b[0m\n\u001b[0;32m     17\u001b[0m \u001b[38;5;28;01mdef\u001b[39;00m \u001b[38;5;21m__hash__\u001b[39m(\u001b[38;5;28mself\u001b[39m):\n\u001b[0;32m     18\u001b[0m     vett\u001b[38;5;241m=\u001b[39m\u001b[38;5;28mset\u001b[39m()\n\u001b[1;32m---> 19\u001b[0m     indexes\u001b[38;5;241m=\u001b[39m\u001b[43mfind_indices\u001b[49m\u001b[43m(\u001b[49m\u001b[38;5;28;43mself\u001b[39;49m\u001b[43m)\u001b[49m\n\u001b[0;32m     20\u001b[0m     \u001b[38;5;28;01mfor\u001b[39;00m magic \u001b[38;5;129;01min\u001b[39;00m [MAGIC,MAGIC_90,MAGIC_180,MAGIC_270,MAGIC_MIRROR,MAGIC_MIRROR_180,MAGIC_270]:\n\u001b[0;32m     21\u001b[0m         val \u001b[38;5;241m=\u001b[39mget_values_by_keys(indexes,magic)\n",
      "Cell \u001b[1;32mIn[31], line 2\u001b[0m, in \u001b[0;36mfind_indices\u001b[1;34m(pos)\u001b[0m\n\u001b[0;32m      1\u001b[0m \u001b[38;5;28;01mdef\u001b[39;00m \u001b[38;5;21mfind_indices\u001b[39m(pos:State):\n\u001b[1;32m----> 2\u001b[0m     state_tmp\u001b[38;5;241m=\u001b[39m\u001b[43mCustomState\u001b[49m\u001b[43m(\u001b[49m\u001b[38;5;28;43mset\u001b[39;49m\u001b[43m(\u001b[49m\u001b[43m[\u001b[49m\u001b[43m]\u001b[49m\u001b[43m)\u001b[49m\u001b[43m,\u001b[49m\u001b[38;5;28;43mset\u001b[39;49m\u001b[43m(\u001b[49m\u001b[43m[\u001b[49m\u001b[43m]\u001b[49m\u001b[43m)\u001b[49m\u001b[43m)\u001b[49m\n\u001b[0;32m      3\u001b[0m     \u001b[38;5;28;01mfor\u001b[39;00m i,val \u001b[38;5;129;01min\u001b[39;00m \u001b[38;5;28menumerate\u001b[39m(pos\u001b[38;5;241m.\u001b[39mx):\n\u001b[0;32m      4\u001b[0m         \u001b[38;5;66;03m#print(val)\u001b[39;00m\n\u001b[0;32m      5\u001b[0m         \u001b[38;5;28;01mtry\u001b[39;00m:\n",
      "File \u001b[1;32m<string>:1\u001b[0m, in \u001b[0;36m<lambda>\u001b[1;34m(_cls, x, o)\u001b[0m\n",
      "\u001b[1;31mRecursionError\u001b[0m: maximum recursion depth exceeded while calling a Python object"
     ]
    }
   ],
   "source": [
    "value_dictionary = {}\n",
    "\n",
    "hit_state = defaultdict(int)\n",
    "epsilon = 0.001\n",
    "\n",
    "\n",
    "for steps in tqdm(range(5000)):\n",
    "    state = CustomState(set(), set())\n",
    "    cnt=0\n",
    "    while (state.x.union(state.o)!=set(range(1,10)) and state_value(state)==0) :\n",
    "        #chose a random action\n",
    "        state_tmp=deepcopy(state)\n",
    "        action = random_move(set(range(1,10))-(state.x.union(state.o)))\n",
    "        player=cnt%2\n",
    "        cnt+=1\n",
    "        #print(cnt)\n",
    "        if player==1:\n",
    "            state_tmp.x.add(action)\n",
    "            reward=state_value(state_tmp)\n",
    "            if reward==0:\n",
    "                reward=block_win_adv(state_tmp.o,action)*0.75\n",
    "            if reward==0:\n",
    "                reward=trap_condition(state_tmp.x,state_tmp.o)\n",
    "    \n",
    "            if state not in value_dictionary:\n",
    "                value_dictionary[state]={action:0.}\n",
    "            elif action not in value_dictionary[state]:\n",
    "                value_dictionary[state][str(action)]=0.\n",
    "\n",
    "            if state_tmp not in value_dictionary:\n",
    "                value_dictionary[state_tmp]={action:0.}\n",
    "            elif action not in value_dictionary[state_tmp]:\n",
    "                value_dictionary[state_tmp][action]=0.\n",
    "            value_dictionary[state][action]=(1-0.1)*value_dictionary[state][action]+0.1*(reward+0.7* max(value_dictionary[state_tmp].values()))\n",
    "            state=deepcopy(state_tmp)\n",
    "        \n",
    "        else:\n",
    "            state_tmp.o.add(action)\n",
    "            reward=state_value(state_tmp)\n",
    "            if reward==0:\n",
    "                reward=-block_win_adv(state_tmp.x,action)*0.75\n",
    "            if reward==0:\n",
    "                reward=-trap_condition(state_tmp.o,state_tmp.x)\n",
    "            if state not in value_dictionary:\n",
    "                value_dictionary[state]={action:0.}\n",
    "            elif action not in value_dictionary[state]:\n",
    "                value_dictionary[state][action]=0.\n",
    "\n",
    "            if state_tmp not in value_dictionary:\n",
    "                value_dictionary[state_tmp]={action:0.}\n",
    "            elif action not in value_dictionary[str(state_tmp)]:\n",
    "                value_dictionary[state_tmp][action]=0.\n",
    "\n",
    "            \n",
    "            value_dictionary[state][action]=(1-0.1)*value_dictionary[state][action]+0.1*(reward+0.7* min(value_dictionary[state_tmp].values()))\n",
    "            \n",
    "            state=deepcopy(state_tmp)\n",
    "        "
   ]
  },
  {
   "cell_type": "code",
   "execution_count": 42,
   "metadata": {},
   "outputs": [
    {
     "name": "stdout",
     "output_type": "stream",
     "text": [
      "CustomState(x=set(), o=set()):\n",
      "  4: 0.0\n",
      "CustomState(x=set(), o={4}):\n",
      "  4: 0.0\n",
      "  1: 0.0\n",
      "CustomState(x={1}, o={4}):\n",
      "  1: 0.0\n"
     ]
    }
   ],
   "source": [
    "def stampa_dizionario(dizionario, livello=0):\n",
    "    spazi = \"  \" * livello\n",
    "    for chiave, valore in dizionario.items():\n",
    "        if isinstance(valore, dict):\n",
    "            print(f\"{spazi}{chiave}:\")\n",
    "            stampa_dizionario(valore, livello + 1)\n",
    "        else:\n",
    "            print(f\"{spazi}{chiave}: {valore}\")\n",
    "\n",
    "\n",
    "\n",
    "stampa_dizionario(value_dictionary)\n"
   ]
  },
  {
   "cell_type": "code",
   "execution_count": 37,
   "metadata": {},
   "outputs": [
    {
     "name": "stdout",
     "output_type": "stream",
     "text": [
      "276\n",
      "951\n",
      "438\n",
      "\n"
     ]
    },
    {
     "ename": "KeyError",
     "evalue": "'State(x=set(), o=set())'",
     "output_type": "error",
     "traceback": [
      "\u001b[1;31m---------------------------------------------------------------------------\u001b[0m",
      "\u001b[1;31mKeyError\u001b[0m                                  Traceback (most recent call last)",
      "Cell \u001b[1;32mIn[37], line 38\u001b[0m\n\u001b[0;32m     34\u001b[0m     \u001b[38;5;28;01melse\u001b[39;00m:\n\u001b[0;32m     35\u001b[0m         \u001b[38;5;28mprint\u001b[39m(\u001b[38;5;124m\"\u001b[39m\u001b[38;5;124mpair\u001b[39m\u001b[38;5;124m\"\u001b[39m)\n\u001b[1;32m---> 38\u001b[0m \u001b[43mplay_against_him\u001b[49m\u001b[43m(\u001b[49m\u001b[43m)\u001b[49m\n",
      "Cell \u001b[1;32mIn[37], line 6\u001b[0m, in \u001b[0;36mplay_against_him\u001b[1;34m()\u001b[0m\n\u001b[0;32m      4\u001b[0m state\u001b[38;5;241m=\u001b[39mState(\u001b[38;5;28mset\u001b[39m(),\u001b[38;5;28mset\u001b[39m())\n\u001b[0;32m      5\u001b[0m \u001b[38;5;28;01mwhile\u001b[39;00m (state\u001b[38;5;241m.\u001b[39mx\u001b[38;5;241m.\u001b[39munion(state\u001b[38;5;241m.\u001b[39mo)\u001b[38;5;241m!=\u001b[39m\u001b[38;5;28mset\u001b[39m(\u001b[38;5;28mrange\u001b[39m(\u001b[38;5;241m1\u001b[39m,\u001b[38;5;241m10\u001b[39m)) \u001b[38;5;129;01mand\u001b[39;00m state_value(state)\u001b[38;5;241m==\u001b[39m\u001b[38;5;241m0\u001b[39m) :\n\u001b[1;32m----> 6\u001b[0m     list_move \u001b[38;5;241m=\u001b[39m \u001b[38;5;28msorted\u001b[39m(\u001b[43mvalue_dictionary\u001b[49m\u001b[43m[\u001b[49m\u001b[38;5;28;43mstr\u001b[39;49m\u001b[43m(\u001b[49m\u001b[43mstate\u001b[49m\u001b[43m)\u001b[49m\u001b[43m]\u001b[49m, key\u001b[38;5;241m=\u001b[39mvalue_dictionary[\u001b[38;5;28mstr\u001b[39m(state)]\u001b[38;5;241m.\u001b[39mget)\n\u001b[0;32m      7\u001b[0m     \u001b[38;5;28;01mfor\u001b[39;00m i \u001b[38;5;129;01min\u001b[39;00m \u001b[38;5;28mrange\u001b[39m(\u001b[38;5;28mlen\u001b[39m(list_move)):\n\u001b[0;32m      8\u001b[0m         val\u001b[38;5;241m=\u001b[39mlist_move[i]\n",
      "\u001b[1;31mKeyError\u001b[0m: 'State(x=set(), o=set())'"
     ]
    }
   ],
   "source": [
    "import time\n",
    "def play_against_him():\n",
    "    print_board(State(set(),set()))\n",
    "    state=State(set(),set())\n",
    "    while (state.x.union(state.o)!=set(range(1,10)) and state_value(state)==0) :\n",
    "        list_move = sorted(value_dictionary[str(state)], key=value_dictionary[str(state)].get)\n",
    "        for i in range(len(list_move)):\n",
    "            val=list_move[i]\n",
    "            if val not in state.x:\n",
    "                break\n",
    "        state.x.add(val)\n",
    "        print_board(state)\n",
    "        time.sleep(1)\n",
    "\n",
    "        numero_inserito = input(\"Make your move\")\n",
    "\n",
    "        try:\n",
    "            #print(board+\"\\n\")\n",
    "            numero_inserito = int(numero_inserito)\n",
    "\n",
    "            if(numero_inserito not in (set(range(1,10))-state.x.union(state.o))):\n",
    "                print(\"mossa non valida\")\n",
    "                break\n",
    "            else:\n",
    "\n",
    "                state.o.add(numero_inserito)\n",
    "            print_board(state)\n",
    "        except ValueError:\n",
    "            print(\"Not valid.\")()\n",
    "    if(state_value(state)==1):\n",
    "        print(\"RL win\")\n",
    "    elif(state_value(state)==-1):\n",
    "        print(\"You win \")\n",
    "    else:\n",
    "        print(\"pair\")\n",
    "\n",
    "\n",
    "play_against_him()\n",
    "\n"
   ]
  },
  {
   "cell_type": "code",
   "execution_count": null,
   "metadata": {},
   "outputs": [
    {
     "name": "stdout",
     "output_type": "stream",
     "text": [
      "276\n",
      "951\n",
      "438\n",
      "\n",
      "X---->RL\n",
      "O----->RANDOM\n",
      "27O\n",
      "9X1\n",
      "438\n",
      "\n",
      "OXO\n",
      "9X1\n",
      "438\n",
      "\n",
      "OXO\n",
      "OX1\n",
      "4X8\n",
      "\n"
     ]
    }
   ],
   "source": [
    "def play_against_random():\n",
    "    print_board(State(set(),set()))\n",
    "    state=State(set(),set())\n",
    "    print(\"X---->RL\")\n",
    "    print(\"O----->RANDOM\")\n",
    "    while (state.x.union(state.o)!=set(range(1,10)) and state_value(state)==0) :\n",
    "        list_move = sorted(value_dictionary[str(state)], key=value_dictionary[str(state)].get)\n",
    "        for i in range(len(list_move)):\n",
    "            val=list_move[i]\n",
    "            if val not in state.x:\n",
    "                break\n",
    "        state.x.add(val)\n",
    "        \n",
    "        move=random_move(set(range(1,10))-(state.x.union(state.o)))\n",
    "        state.o.add(move)\n",
    "        print_board(state)\n",
    "\n",
    "play_against_random()        \n",
    "\n",
    "        \n",
    "\n"
   ]
  },
  {
   "cell_type": "code",
   "execution_count": null,
   "metadata": {},
   "outputs": [],
   "source": [
    "def is_symmetric(move1, move2):\n",
    "    # Definisci la mappa di simmetria rispetto a una rotazione di 180 gradi\n",
    "    symmetry_map = {'1': '9', '2': '8', '3': '7', '4': '6', '5': '5', '6': '4', '7': '3', '8': '2', '9': '1'}\n",
    "\n",
    "    # Verifica se le mosse sono simmetriche rispetto a una rotazione di 180 gradi\n",
    "    return all(symmetry_map.get(digit) == move2[i] for i, digit in enumerate(move1))\n",
    "\n",
    "# Esempio di utilizzo:\n",
    "move_user1 = '27'\n",
    "move_user2 = '59'\n",
    "\n",
    "if is_symmetric(move_user1, move_user2):\n",
    "    print(\"Le mosse sono simmetriche rispetto a una rotazione di 180 gradi.\")\n",
    "else:\n",
    "    print(\"Le mosse non sono simmetriche rispetto a una rotazione di 180 gradi.\")\n"
   ]
  },
  {
   "cell_type": "code",
   "execution_count": null,
   "metadata": {},
   "outputs": [
    {
     "name": "stdout",
     "output_type": "stream",
     "text": [
      "Index: 1, Fruit: apple\n",
      "Index: 2, Fruit: banana\n",
      "Index: 3, Fruit: orange\n"
     ]
    }
   ],
   "source": [
    "fruits = ['apple', 'banana', 'orange']\n",
    "\n",
    "for index, fruit in enumerate(fruits, start=1):\n",
    "    print(f\"Index: {index}, Fruit: {fruit}\")\n"
   ]
  }
 ],
 "metadata": {
  "kernelspec": {
   "display_name": "ci-P-7LqQ3C-py3.11",
   "language": "python",
   "name": "python3"
  },
  "language_info": {
   "codemirror_mode": {
    "name": "ipython",
    "version": 3
   },
   "file_extension": ".py",
   "mimetype": "text/x-python",
   "name": "python",
   "nbconvert_exporter": "python",
   "pygments_lexer": "ipython3",
   "version": "3.11.7"
  }
 },
 "nbformat": 4,
 "nbformat_minor": 2
}
