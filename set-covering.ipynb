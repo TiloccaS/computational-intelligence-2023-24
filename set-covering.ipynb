{
 "cells": [
  {
   "cell_type": "code",
   "execution_count": 99,
   "metadata": {},
   "outputs": [],
   "source": [
    "#we use set for taken and not taken, is better than vector beacause we don't have position\n",
    "import numpy as np"
   ]
  },
  {
   "cell_type": "code",
   "execution_count": 100,
   "metadata": {},
   "outputs": [],
   "source": [
    "from random import random\n",
    "import numpy as np\n",
    "import operator\n",
    "from functools import reduce\n",
    "from queue import PriorityQueue\n",
    "from collections import namedtuple"
   ]
  },
  {
   "cell_type": "code",
   "execution_count": 101,
   "metadata": {},
   "outputs": [],
   "source": [
    "PROBLEM_SIZE=5\n",
    "NUM_SETS=10\n",
    "State=namedtuple(\"State\",[\"taken\",\"not_taken\"])"
   ]
  },
  {
   "cell_type": "code",
   "execution_count": 102,
   "metadata": {},
   "outputs": [
    {
     "data": {
      "text/plain": [
       "(array([False, False, False, False,  True]),\n",
       " array([False, False, False,  True, False]),\n",
       " array([False, False, False,  True,  True]),\n",
       " array([ True, False, False,  True, False]),\n",
       " array([False, False,  True, False, False]),\n",
       " array([False, False, False, False, False]),\n",
       " array([False, False, False, False, False]),\n",
       " array([ True,  True,  True,  True, False]),\n",
       " array([False, False,  True, False, False]),\n",
       " array([False, False, False, False,  True]))"
      ]
     },
     "execution_count": 102,
     "metadata": {},
     "output_type": "execute_result"
    }
   ],
   "source": [
    "#one possible set could be:\n",
    "SETS=tuple(np.array([random()<.3 for _ in range(PROBLEM_SIZE)]) for _ in range(NUM_SETS))\n",
    "SETS"
   ]
  },
  {
   "cell_type": "code",
   "execution_count": 103,
   "metadata": {},
   "outputs": [
    {
     "data": {
      "text/plain": [
       "False"
      ]
     },
     "execution_count": 103,
     "metadata": {},
     "output_type": "execute_result"
    }
   ],
   "source": [
    "state=({1,3,5},{0,2,4,6,7})#in the first position there are step taken and the second are not taken position\n",
    "#how can i calculate the goal state?\n",
    "[SETS[i] for i in state[0]]\n",
    "np.all(reduce(np.logical_or,[SETS[i] for i in state[0]]))#our taste to for understand if we are in the goal state"
   ]
  },
  {
   "cell_type": "code",
   "execution_count": 104,
   "metadata": {},
   "outputs": [],
   "source": [
    "def goal_check(state):\n",
    "    return np.all(reduce(np.logical_or, [SETS[i] for i in state.taken], np.array([False for _ in range(PROBLEM_SIZE)])))"
   ]
  },
  {
   "cell_type": "code",
   "execution_count": 105,
   "metadata": {},
   "outputs": [],
   "source": [
    "def get_number_taken(state):\n",
    "    tmp=np.sum(reduce(np.logical_or, [SETS[i] for i in state.taken], np.array([False for _ in range(PROBLEM_SIZE)]))==True)\n",
    "    return np.sum(reduce(np.logical_or, [SETS[i] for i in state.taken], np.array([False for _ in range(PROBLEM_SIZE)]))==True)"
   ]
  },
  {
   "cell_type": "code",
   "execution_count": 106,
   "metadata": {},
   "outputs": [],
   "source": [
    "assert goal_check(State(set(range(NUM_SETS)), set())), \"Probelm not solvable\"\n"
   ]
  },
  {
   "cell_type": "code",
   "execution_count": 107,
   "metadata": {},
   "outputs": [
    {
     "name": "stdout",
     "output_type": "stream",
     "text": [
      "State(taken={0}, not_taken={1, 2, 3, 4, 5, 6, 7, 8, 9})\n",
      "State(taken={2}, not_taken={0, 1, 3, 4, 5, 6, 7, 8, 9})\n",
      "State(taken={6}, not_taken={0, 1, 2, 3, 4, 5, 7, 8, 9})\n",
      "State(taken={9}, not_taken={0, 1, 2, 3, 4, 5, 6, 7, 8})\n",
      "State(taken={5}, not_taken={0, 1, 2, 3, 4, 6, 7, 8, 9})\n",
      "State(taken={1}, not_taken={0, 2, 3, 4, 5, 6, 7, 8, 9})\n",
      "State(taken={4}, not_taken={0, 1, 2, 3, 5, 6, 7, 8, 9})\n",
      "State(taken={3}, not_taken={0, 1, 2, 4, 5, 6, 7, 8, 9})\n",
      "State(taken={8}, not_taken={0, 1, 2, 3, 4, 5, 6, 7, 9})\n",
      "State(taken={7}, not_taken={0, 1, 2, 3, 4, 5, 6, 8, 9})\n",
      "State(taken={0, 6}, not_taken={1, 2, 3, 4, 5, 7, 8, 9})\n",
      "State(taken={0, 9}, not_taken={1, 2, 3, 4, 5, 6, 7, 8})\n",
      "State(taken={5, 6}, not_taken={0, 1, 2, 3, 4, 7, 8, 9})\n",
      "State(taken={9, 6}, not_taken={0, 1, 2, 3, 4, 5, 7, 8})\n",
      "State(taken={4, 6}, not_taken={0, 1, 2, 3, 5, 7, 8, 9})\n",
      "State(taken={8, 9}, not_taken={0, 1, 2, 3, 4, 5, 6, 7})\n",
      "State(taken={9, 7}, not_taken={0, 1, 2, 3, 4, 5, 6, 8})\n"
     ]
    }
   ],
   "source": [
    "#we need a queue that is the frontier\n",
    "frontier=PriorityQueue()\n",
    "#define the initial state\n",
    "frontier.put(State(set(),set(range(NUM_SETS))))\n",
    "current_state=frontier.get()\n",
    "contatore=0\n",
    "while not goal_check(current_state):\n",
    "    for action in current_state[1]:\n",
    "     contatore+=1\n",
    "     new_state=State (current_state.taken ^ {action}, current_state.not_taken ^{action})\n",
    "     frontier.put((-get_number_taken(new_state),new_state))\n",
    "    #print(current_state)\n",
    "    _,current_state=frontier.get()"
   ]
  },
  {
   "cell_type": "code",
   "execution_count": 108,
   "metadata": {},
   "outputs": [
    {
     "name": "stdout",
     "output_type": "stream",
     "text": [
      "148\n"
     ]
    },
    {
     "data": {
      "text/plain": [
       "State(taken={9, 7}, not_taken={0, 1, 2, 3, 4, 5, 6, 8})"
      ]
     },
     "execution_count": 108,
     "metadata": {},
     "output_type": "execute_result"
    }
   ],
   "source": [
    "print(contatore)\n",
    "current_state"
   ]
  }
 ],
 "metadata": {
  "kernelspec": {
   "display_name": "myenv",
   "language": "python",
   "name": "python3"
  },
  "language_info": {
   "codemirror_mode": {
    "name": "ipython",
    "version": 3
   },
   "file_extension": ".py",
   "mimetype": "text/x-python",
   "name": "python",
   "nbconvert_exporter": "python",
   "pygments_lexer": "ipython3",
   "version": "3.12.0"
  }
 },
 "nbformat": 4,
 "nbformat_minor": 2
}
